{
 "cells": [
  {
   "cell_type": "code",
   "execution_count": 1,
   "id": "845282ab",
   "metadata": {},
   "outputs": [],
   "source": [
    "import pandas as pd\n",
    "from collections import defaultdict\n",
    "import os\n",
    "import pickle\n",
    "import seaborn as sns\n",
    "sns.set_context('paper', font_scale=0.73)\n",
    "sns.set_style('whitegrid', {'font.family':'serif', 'font.serif':'Times New Roman'})\n",
    "import matplotlib.pyplot as plt\n",
    "import numpy as np\n",
    "import itertools\n",
    "import scipy\n",
    "from statsmodels.stats.power import TTestIndPower\n",
    "from collections import Counter"
   ]
  },
  {
   "cell_type": "code",
   "execution_count": 2,
   "id": "a297c644",
   "metadata": {},
   "outputs": [],
   "source": [
    "PUBLIC_RELEASE_PATH = \"C:/Users/t-johnnywei/Documents/GitHub/ToShipOrNotToShip\\public_release\""
   ]
  },
  {
   "cell_type": "code",
   "execution_count": 3,
   "id": "3525e08e",
   "metadata": {},
   "outputs": [],
   "source": [
    "def load_data(use_cache=True):\n",
    "    cache_filename = \"data.pickle\"\n",
    "    data = defaultdict(dict)\n",
    "    if use_cache and os.path.isfile(cache_filename):\n",
    "        with open(cache_filename, 'rb') as handle:\n",
    "            data = pickle.load(handle)\n",
    "    else:\n",
    "        _, campaigns_list, _ = next(os.walk(PUBLIC_RELEASE_PATH))\n",
    "        counter = 1\n",
    "        for campaign in campaigns_list:\n",
    "            if campaign not in data:\n",
    "                data[campaign] = defaultdict(dict)\n",
    "            for _, _, systems_list in os.walk(f\"{PUBLIC_RELEASE_PATH}/{campaign}\"):\n",
    "                for system in systems_list:\n",
    "                    if system not in data[campaign]:\n",
    "                        data[campaign][system] = defaultdict(dict)\n",
    "                    print(f\"Loading {counter}/{len(campaigns_list)} campaign\")\n",
    "                    xls = pd.ExcelFile(f\"{PUBLIC_RELEASE_PATH}/{campaign}/{system}\")\n",
    "                    for datatype in xls.sheet_names:\n",
    "                        if datatype in [\"hum_annotations\",\n",
    "                                        \"full_test\"]:\n",
    "                            data[campaign][system][datatype] = pd.read_excel(\n",
    "                                xls, datatype)\n",
    "                        else:\n",
    "                            df = pd.read_excel(xls, datatype)\n",
    "                            # transform to dictionary\n",
    "                            df_dict = df.set_index(\"Unnamed: 0\").transpose()\n",
    "                            df_dict = df_dict.iloc[0].to_dict()\n",
    "                            data[campaign][system][datatype] = df_dict\n",
    "                counter += 1\n",
    "\n",
    "        # save the cache data\n",
    "        if use_cache:\n",
    "            with open(cache_filename, 'wb') as handle:\n",
    "                pickle.dump(data, handle, protocol=pickle.HIGHEST_PROTOCOL)\n",
    "\n",
    "    print(\"Annotated data loaded\")\n",
    "    return data"
   ]
  },
  {
   "cell_type": "code",
   "execution_count": 4,
   "id": "bcd0fb48",
   "metadata": {},
   "outputs": [
    {
     "name": "stdout",
     "output_type": "stream",
     "text": [
      "Annotated data loaded\n"
     ]
    }
   ],
   "source": [
    "data = load_data()"
   ]
  },
  {
   "cell_type": "code",
   "execution_count": 5,
   "id": "eda9659a",
   "metadata": {},
   "outputs": [],
   "source": [
    "def pairs():\n",
    "    for (k, v) in data.items():\n",
    "        for i, j in itertools.combinations(v, 2):\n",
    "            yield (v[i]['hum_annotations'], v[j]['hum_annotations'])"
   ]
  },
  {
   "cell_type": "code",
   "execution_count": 6,
   "id": "4a5a4ff5",
   "metadata": {},
   "outputs": [],
   "source": [
    "# get language pairs\n",
    "st = [('ENU', 'FRA')]"
   ]
  },
  {
   "cell_type": "code",
   "execution_count": 7,
   "id": "f537fc74",
   "metadata": {},
   "outputs": [],
   "source": [
    "def mde(sorted_results):\n",
    "    p_test = 0.05\n",
    "    threshold = 0.95\n",
    "    sig, insig = 0, 0\n",
    "    last_diff = 0\n",
    "    for diff, pvalue in sorted_results:\n",
    "        if pvalue < 0.05:\n",
    "            sig += 1\n",
    "        else:\n",
    "            insig += 1\n",
    "\n",
    "        if sig / (sig + insig) < threshold:\n",
    "            return last_diff, sig, insig\n",
    "        last_diff = diff\n",
    "        \n",
    "    # no mde found\n",
    "    return None, sig, insig"
   ]
  },
  {
   "cell_type": "code",
   "execution_count": 8,
   "id": "338dcee7",
   "metadata": {},
   "outputs": [],
   "source": [
    "lp_pairs = []\n",
    "for i, j in pairs():\n",
    "    s = i['Source'].unique()\n",
    "    t = i['Target'].unique()\n",
    "\n",
    "    if st[0][0] == s and st[0][1] == t:\n",
    "        lp_pairs.append((i, j))\n",
    "  \n",
    "results = []\n",
    "for df1, df2 in lp_pairs:\n",
    "    diff = np.abs(df1['Score'].mean() - df2['Score'].mean())\n",
    "    s, pvalue = scipy.stats.mannwhitneyu(df1['Score'], df2['Score'])\n",
    "    results.append((diff, pvalue))\n",
    "results = np.array(results)\n",
    "\n",
    "order = (-results[:, 0]).argsort()\n",
    "sorted_results = results[order]\n",
    "obs_mde, sig, insig = mde(sorted_results)\n",
    "\n",
    "# get 25th percentile\n",
    "q_diff = sorted_results[int(len(sorted_results) * 0.5), 0]"
   ]
  },
  {
   "cell_type": "code",
   "execution_count": 9,
   "id": "00c5b22b",
   "metadata": {},
   "outputs": [
    {
     "data": {
      "text/plain": [
       "3.8047808764940214"
      ]
     },
     "execution_count": 9,
     "metadata": {},
     "output_type": "execute_result"
    }
   ],
   "source": [
    "obs_mde"
   ]
  },
  {
   "cell_type": "code",
   "execution_count": 23,
   "id": "aa0cbdac",
   "metadata": {},
   "outputs": [
    {
     "data": {
      "image/png": "[encoded data removed]",
      "text/plain": [
       "<Figure size 216x129.6 with 1 Axes>"
      ]
     },
     "metadata": {
      "needs_background": "light"
     },
     "output_type": "display_data"
    }
   ],
   "source": [
    "plt.figure(figsize=(3, 1.8))\n",
    "g = sns.scatterplot(x=results[:,0], y=results[:,1])\n",
    "g.axvline(obs_mde, linestyle='--', color='grey')\n",
    "plt.text(4, 0.5, 'MDE: %.1f' % obs_mde, size=10)\n",
    "g.set(xlabel='Obs. system difference', ylabel='p-value')\n",
    "plt.savefig('enu-fra_mde.pdf', bbox_inches='tight')"
   ]
  },
  {
   "cell_type": "code",
   "execution_count": null,
   "id": "25056542",
   "metadata": {},
   "outputs": [],
   "source": []
  }
 ],
 "metadata": {
  "kernelspec": {
   "display_name": "Python 3 (ipykernel)",
   "language": "python",
   "name": "python3"
  },
  "language_info": {
   "codemirror_mode": {
    "name": "ipython",
    "version": 3
   },
   "file_extension": ".py",
   "mimetype": "text/x-python",
   "name": "python",
   "nbconvert_exporter": "python",
   "pygments_lexer": "ipython3",
   "version": "3.10.4"
  }
 },
 "nbformat": 4,
 "nbformat_minor": 5
}
