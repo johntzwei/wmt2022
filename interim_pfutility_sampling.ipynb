{
 "cells": [
  {
   "cell_type": "code",
   "execution_count": 1,
   "id": "5a64a929",
   "metadata": {},
   "outputs": [],
   "source": [
    "import itertools\n",
    "from collections import defaultdict\n",
    "import os\n",
    "import pickle\n",
    "import multiprocessing\n",
    "import pdb\n",
    "\n",
    "import seaborn as sns\n",
    "sns.set()\n",
    "import matplotlib.pyplot as plt\n",
    "\n",
    "import numpy as np\n",
    "import pandas as pd\n",
    "import scipy\n",
    "from scipy import stats\n",
    "from statsmodels.stats.power import TTestIndPower\n",
    "from tqdm import tqdm\n",
    "\n",
    "from utils import filter_pairs, test_all"
   ]
  },
  {
   "cell_type": "code",
   "execution_count": 2,
   "id": "d87288cc",
   "metadata": {},
   "outputs": [],
   "source": [
    "lp_source = 'X'\n",
    "lp_target = 'X'\n",
    "lengths = [600, 1200, 1800, 2400, 3000]"
   ]
  },
  {
   "cell_type": "code",
   "execution_count": 3,
   "id": "127e6d7a",
   "metadata": {},
   "outputs": [
    {
     "name": "stdout",
     "output_type": "stream",
     "text": [
      "Annotated data loaded\n"
     ]
    },
    {
     "data": {
      "text/plain": [
       "1000"
      ]
     },
     "execution_count": 3,
     "metadata": {},
     "output_type": "execute_result"
    }
   ],
   "source": [
    "pairs = filter_pairs(lp_source, lp_target, size=1000)\n",
    "len(pairs)"
   ]
  },
  {
   "cell_type": "code",
   "execution_count": 4,
   "id": "ceb1ba19",
   "metadata": {},
   "outputs": [],
   "source": [
    "# pocock corrections\n",
    "p = 0.05\n",
    "pocock = [None, p, 0.0294, 0.0221, 0.0182, 0.0158]\n",
    "bonferroni = [None, p/1, p/2, p/3, p/4, p/5]\n",
    "stopping_p_threshold = 0.5"
   ]
  },
  {
   "cell_type": "code",
   "execution_count": 5,
   "id": "8d7034f6",
   "metadata": {},
   "outputs": [],
   "source": [
    "def interim_futility_run(x, steps=3, correction='pocock'):\n",
    "    sys1, sys2, length, pvalue = x\n",
    "    assert(pvalue == 0.05)\n",
    "    \n",
    "    if correction == 'pocock':\n",
    "        p_0 = pocock[steps]\n",
    "    elif correction == 'bonferroni':\n",
    "        p_0 = bonferroni[steps]\n",
    "    \n",
    "    succeeded = 0\n",
    "\n",
    "    # shuffle\n",
    "    sys1_shuf = sys1.sample(length, replace=True)\n",
    "    sys2_shuf = sys2.sample(length, replace=True)\n",
    "\n",
    "    step_size = int(length/steps)\n",
    "    for step in range(1, steps+1):\n",
    "        size = step * step_size\n",
    "        baseline_sys = sys1_shuf.head(size)\n",
    "        other_sys = sys2_shuf.head(size)\n",
    "\n",
    "        ind, pvalue = stats.mannwhitneyu(baseline_sys, other_sys)\n",
    "\n",
    "        if pvalue < p_0:\n",
    "            succeeded = 1\n",
    "            break\n",
    "            \n",
    "        # futility\n",
    "        if pvalue > stopping_p_threshold:\n",
    "            # futility\n",
    "            break\n",
    "            \n",
    "    return succeded, size"
   ]
  },
  {
   "cell_type": "code",
   "execution_count": 9,
   "id": "abaceeca",
   "metadata": {
    "scrolled": false
   },
   "outputs": [
    {
     "name": "stderr",
     "output_type": "stream",
     "text": [
      "100%|██████████| 1000/1000 [07:54<00:00,  2.11it/s]\n"
     ]
    }
   ],
   "source": [
    "# for length in lengths:\n",
    "for length in [ 2300 ]:\n",
    "    results = test_all(pairs, interim_futility_run, length, 0.05)\n",
    "    np.save(open('interim-pfutility_%.1f__%s-%s_%d.npz' % (stopping_p_threshold, lp_source, lp_target, length), 'wb'), results)"
   ]
  }
 ],
 "metadata": {
  "kernelspec": {
   "display_name": "Python 3 (ipykernel)",
   "language": "python",
   "name": "python3"
  },
  "language_info": {
   "codemirror_mode": {
    "name": "ipython",
    "version": 3
   },
   "file_extension": ".py",
   "mimetype": "text/x-python",
   "name": "python",
   "nbconvert_exporter": "python",
   "pygments_lexer": "ipython3",
   "version": "3.10.4"
  }
 },
 "nbformat": 4,
 "nbformat_minor": 5
}
