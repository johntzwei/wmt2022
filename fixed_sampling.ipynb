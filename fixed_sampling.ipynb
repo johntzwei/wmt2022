{
 "cells": [
  {
   "cell_type": "code",
   "execution_count": 1,
   "id": "5a64a929",
   "metadata": {},
   "outputs": [],
   "source": [
    "import itertools\n",
    "from collections import defaultdict\n",
    "import os\n",
    "import pickle\n",
    "from multiprocessing import Pool\n",
    "\n",
    "import seaborn as sns\n",
    "sns.set()\n",
    "import matplotlib.pyplot as plt\n",
    "\n",
    "import numpy as np\n",
    "import pandas as pd\n",
    "import scipy\n",
    "from scipy import stats\n",
    "from statsmodels.stats.power import TTestIndPower\n",
    "from tqdm import tqdm\n",
    "\n",
    "from utils import filter_pairs, test_all"
   ]
  },
  {
   "cell_type": "code",
   "execution_count": 2,
   "id": "6e48cca7",
   "metadata": {},
   "outputs": [],
   "source": [
    "lp_source = 'X'\n",
    "lp_target = 'X'\n",
    "lengths = [600, 1200, 1800, 2400, 3000]\n",
    "pvalue = 0.05"
   ]
  },
  {
   "cell_type": "code",
   "execution_count": 3,
   "id": "a43056c5",
   "metadata": {},
   "outputs": [
    {
     "name": "stdout",
     "output_type": "stream",
     "text": [
      "Annotated data loaded\n"
     ]
    },
    {
     "data": {
      "text/plain": [
       "1000"
      ]
     },
     "execution_count": 3,
     "metadata": {},
     "output_type": "execute_result"
    }
   ],
   "source": [
    "pairs = filter_pairs(lp_source, lp_target, size=1000)\n",
    "len(pairs)"
   ]
  },
  {
   "cell_type": "code",
   "execution_count": 4,
   "id": "22722058",
   "metadata": {},
   "outputs": [],
   "source": [
    "def fixed_run(x):\n",
    "    sys1, sys2, length, p = x\n",
    "    baseline_sys = sys1.sample(length, replace=True)\n",
    "    other_sys = sys2.sample(length, replace=True)\n",
    "    ind, pvalue = stats.mannwhitneyu(baseline_sys, other_sys)\n",
    "    \n",
    "    if pvalue < p:\n",
    "        succeeded = 1\n",
    "    else:\n",
    "        succeeded = 0\n",
    "    return succeeded, length"
   ]
  },
  {
   "cell_type": "code",
   "execution_count": null,
   "id": "abaceeca",
   "metadata": {},
   "outputs": [
    {
     "name": "stderr",
     "output_type": "stream",
     "text": [
      "100%|██████████| 1000/1000 [03:57<00:00,  4.22it/s]\n",
      "100%|██████████| 1000/1000 [05:32<00:00,  3.00it/s]\n",
      "100%|██████████| 1000/1000 [06:44<00:00,  2.47it/s]\n",
      "100%|██████████| 1000/1000 [08:18<00:00,  2.00it/s]\n",
      " 90%|████████▉ | 899/1000 [08:45<00:53,  1.87it/s]"
     ]
    }
   ],
   "source": [
    "for length in lengths:\n",
    "    results = test_all(pairs, fixed_run, length, pvalue)\n",
    "    np.save(open('fixed_%s-%s_%d.npz' % (lp_source, lp_target, length), 'wb'), results)"
   ]
  }
 ],
 "metadata": {
  "kernelspec": {
   "display_name": "Python 3 (ipykernel)",
   "language": "python",
   "name": "python3"
  },
  "language_info": {
   "codemirror_mode": {
    "name": "ipython",
    "version": 3
   },
   "file_extension": ".py",
   "mimetype": "text/x-python",
   "name": "python",
   "nbconvert_exporter": "python",
   "pygments_lexer": "ipython3",
   "version": "3.10.4"
  }
 },
 "nbformat": 4,
 "nbformat_minor": 5
}
