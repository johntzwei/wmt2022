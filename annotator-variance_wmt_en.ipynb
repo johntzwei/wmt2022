{
 "cells": [
  {
   "cell_type": "code",
   "execution_count": 1,
   "id": "25535880",
   "metadata": {},
   "outputs": [],
   "source": [
    "import pandas as pd\n",
    "import matplotlib.pyplot as plt\n",
    "import seaborn as sns\n",
    "sns.set()\n",
    "from itertools import combinations\n",
    "from scipy import stats\n",
    "import numpy as np\n",
    "from statsmodels.stats.power import TTestIndPower\n",
    "from glob import glob"
   ]
  },
  {
   "cell_type": "code",
   "execution_count": 2,
   "id": "ad3a288b",
   "metadata": {},
   "outputs": [],
   "source": [
    "def raw_score(x, mu_sigmas):\n",
    "    mu, sigma = mu_sigmas[x['WorkerId']]\n",
    "    return mu + sigma * x['score']\n",
    "\n",
    "\n",
    "def get_mu_sigmas(lp):\n",
    "    mu_sigmas = {}\n",
    "    worker, mu, sigma = '', 0, 0\n",
    "    for i, line in enumerate(open('./data/ad-%s-trk-mean-sd.txt' % lp, 'rt')):\n",
    "        if i % 3 == 0:\n",
    "            worker = line.split('\"')[1]\n",
    "        if i % 3 == 1:\n",
    "            mu = float(line.split(' ')[1])\n",
    "        if i % 3 == 2:\n",
    "            try:\n",
    "                sigma = float(line.split(' ')[1])\n",
    "            except:\n",
    "                sigma = 0\n",
    "                print('here')\n",
    "            mu_sigmas[worker] = (mu, sigma)\n",
    "    return mu_sigmas"
   ]
  },
  {
   "cell_type": "code",
   "execution_count": 3,
   "id": "662116ea",
   "metadata": {},
   "outputs": [
    {
     "name": "stdout",
     "output_type": "stream",
     "text": [
      "./data/ad-csen-good-stnd-redup.csv\n",
      "./data/ad-zhen-good-stnd-redup.csv\n",
      "here\n",
      "./data/ad-ruen-good-stnd-redup.csv\n",
      "./data/ad-haen-good-stnd-redup.csv\n",
      "./data/ad-isen-good-stnd-redup.csv\n",
      "here\n",
      "./data/ad-jaen-good-stnd-redup.csv\n",
      "./data/ad-deen-good-stnd-redup.csv\n",
      "here\n"
     ]
    }
   ],
   "source": [
    "all_df = None\n",
    "\n",
    "for fn in glob('./data/ad-*-good-stnd-redup.csv'):\n",
    "    print(fn)\n",
    "    lp = fn.split('-')[1]\n",
    "    df = pd.read_csv(fn, sep='\\t')\n",
    "    mu_sigmas = get_mu_sigmas(lp)\n",
    "    df['raw_score'] = df.apply(lambda x, mu_sigmas=mu_sigmas: raw_score(x, mu_sigmas), axis=1)\n",
    "    \n",
    "    if all_df is None:\n",
    "        all_df = df\n",
    "    else:\n",
    "        all_df = pd.concat([all_df, df])\n",
    "\n",
    "df = all_df"
   ]
  },
  {
   "cell_type": "code",
   "execution_count": 4,
   "id": "eb54696a",
   "metadata": {},
   "outputs": [
    {
     "data": {
      "text/html": [
       "<div>\n",
       "<style scoped>\n",
       "    .dataframe tbody tr th:only-of-type {\n",
       "        vertical-align: middle;\n",
       "    }\n",
       "\n",
       "    .dataframe tbody tr th {\n",
       "        vertical-align: top;\n",
       "    }\n",
       "\n",
       "    .dataframe thead th {\n",
       "        text-align: right;\n",
       "    }\n",
       "</style>\n",
       "<table border=\"1\" class=\"dataframe\">\n",
       "  <thead>\n",
       "    <tr style=\"text-align: right;\">\n",
       "      <th></th>\n",
       "      <th>HITId</th>\n",
       "      <th>WorkerId</th>\n",
       "      <th>Input.src</th>\n",
       "      <th>Input.trg</th>\n",
       "      <th>Input.item</th>\n",
       "      <th>hit</th>\n",
       "      <th>sys_id</th>\n",
       "      <th>rid</th>\n",
       "      <th>type</th>\n",
       "      <th>sid</th>\n",
       "      <th>score</th>\n",
       "      <th>time</th>\n",
       "      <th>raw_score</th>\n",
       "    </tr>\n",
       "  </thead>\n",
       "  <tbody>\n",
       "    <tr>\n",
       "      <th>0</th>\n",
       "      <td>3IKDQS3DQE0Z1Q7G4898UEI39MOICD</td>\n",
       "      <td>M0013</td>\n",
       "      <td>cs</td>\n",
       "      <td>en</td>\n",
       "      <td>ad</td>\n",
       "      <td>4</td>\n",
       "      <td>Facebook-AI.7</td>\n",
       "      <td>1000039</td>\n",
       "      <td>SYSTEM</td>\n",
       "      <td>177</td>\n",
       "      <td>0.620848</td>\n",
       "      <td>931.0</td>\n",
       "      <td>100.0</td>\n",
       "    </tr>\n",
       "    <tr>\n",
       "      <th>1</th>\n",
       "      <td>3IKDQS3DQE0Z1Q7G4898UEI39MOICD</td>\n",
       "      <td>M0013</td>\n",
       "      <td>cs</td>\n",
       "      <td>en</td>\n",
       "      <td>ad</td>\n",
       "      <td>4</td>\n",
       "      <td>Facebook-AI.7</td>\n",
       "      <td>1000039</td>\n",
       "      <td>SYSTEM</td>\n",
       "      <td>178</td>\n",
       "      <td>-0.025028</td>\n",
       "      <td>931.0</td>\n",
       "      <td>75.0</td>\n",
       "    </tr>\n",
       "    <tr>\n",
       "      <th>2</th>\n",
       "      <td>3IKDQS3DQE0Z1Q7G4898UEI39MOICD</td>\n",
       "      <td>M0013</td>\n",
       "      <td>cs</td>\n",
       "      <td>en</td>\n",
       "      <td>ad</td>\n",
       "      <td>4</td>\n",
       "      <td>Facebook-AI.7</td>\n",
       "      <td>1000039</td>\n",
       "      <td>SYSTEM</td>\n",
       "      <td>179</td>\n",
       "      <td>-0.696739</td>\n",
       "      <td>931.0</td>\n",
       "      <td>49.0</td>\n",
       "    </tr>\n",
       "    <tr>\n",
       "      <th>3</th>\n",
       "      <td>3IKDQS3DQE0Z1Q7G4898UEI39MOICD</td>\n",
       "      <td>M0013</td>\n",
       "      <td>cs</td>\n",
       "      <td>en</td>\n",
       "      <td>ad</td>\n",
       "      <td>4</td>\n",
       "      <td>Facebook-AI.7</td>\n",
       "      <td>1000039</td>\n",
       "      <td>SYSTEM</td>\n",
       "      <td>180</td>\n",
       "      <td>-1.678470</td>\n",
       "      <td>931.0</td>\n",
       "      <td>11.0</td>\n",
       "    </tr>\n",
       "    <tr>\n",
       "      <th>4</th>\n",
       "      <td>3IKDQS3DQE0Z1Q7G4898UEI39MOICD</td>\n",
       "      <td>M0013</td>\n",
       "      <td>cs</td>\n",
       "      <td>en</td>\n",
       "      <td>ad</td>\n",
       "      <td>4</td>\n",
       "      <td>Facebook-AI.7</td>\n",
       "      <td>1000039</td>\n",
       "      <td>SYSTEM</td>\n",
       "      <td>181</td>\n",
       "      <td>0.620848</td>\n",
       "      <td>931.0</td>\n",
       "      <td>100.0</td>\n",
       "    </tr>\n",
       "  </tbody>\n",
       "</table>\n",
       "</div>"
      ],
      "text/plain": [
       "                            HITId WorkerId Input.src Input.trg Input.item  \\\n",
       "0  3IKDQS3DQE0Z1Q7G4898UEI39MOICD    M0013        cs        en         ad   \n",
       "1  3IKDQS3DQE0Z1Q7G4898UEI39MOICD    M0013        cs        en         ad   \n",
       "2  3IKDQS3DQE0Z1Q7G4898UEI39MOICD    M0013        cs        en         ad   \n",
       "3  3IKDQS3DQE0Z1Q7G4898UEI39MOICD    M0013        cs        en         ad   \n",
       "4  3IKDQS3DQE0Z1Q7G4898UEI39MOICD    M0013        cs        en         ad   \n",
       "\n",
       "   hit         sys_id      rid    type  sid     score   time  raw_score  \n",
       "0    4  Facebook-AI.7  1000039  SYSTEM  177  0.620848  931.0      100.0  \n",
       "1    4  Facebook-AI.7  1000039  SYSTEM  178 -0.025028  931.0       75.0  \n",
       "2    4  Facebook-AI.7  1000039  SYSTEM  179 -0.696739  931.0       49.0  \n",
       "3    4  Facebook-AI.7  1000039  SYSTEM  180 -1.678470  931.0       11.0  \n",
       "4    4  Facebook-AI.7  1000039  SYSTEM  181  0.620848  931.0      100.0  "
      ]
     },
     "execution_count": 4,
     "metadata": {},
     "output_type": "execute_result"
    }
   ],
   "source": [
    "df = df[df.type.isin(['SYSTEM', 'REPEAT'])]\n",
    "df.head()"
   ]
  },
  {
   "cell_type": "markdown",
   "id": "c890611b",
   "metadata": {},
   "source": [
    "# Variances"
   ]
  },
  {
   "cell_type": "code",
   "execution_count": 5,
   "id": "a7b61fc8",
   "metadata": {},
   "outputs": [],
   "source": [
    "def pooled_variance(groups, variable='score'):\n",
    "    stds = []\n",
    "    for i, group in groups:\n",
    "        if len(group) < 2:\n",
    "            continue   \n",
    "        stds.append((len(group), group[variable].std()))\n",
    "        \n",
    "    num = 0\n",
    "    denom = 0\n",
    "\n",
    "    for n, sigma in stds:\n",
    "        denom += (n-1)\n",
    "        num += (n-1) * sigma * sigma\n",
    "\n",
    "    pooled_var = num / denom\n",
    "    return pooled_var"
   ]
  },
  {
   "cell_type": "code",
   "execution_count": 6,
   "id": "c5f177e9",
   "metadata": {},
   "outputs": [
    {
     "data": {
      "text/plain": [
       "866.2223087404275"
      ]
     },
     "execution_count": 6,
     "metadata": {},
     "output_type": "execute_result"
    }
   ],
   "source": [
    "# total variance\n",
    "total_var = df['raw_score'].var()\n",
    "total_var"
   ]
  },
  {
   "cell_type": "code",
   "execution_count": 7,
   "id": "04ea0f19",
   "metadata": {},
   "outputs": [
    {
     "data": {
      "text/plain": [
       "False"
      ]
     },
     "execution_count": 7,
     "metadata": {},
     "output_type": "execute_result"
    }
   ],
   "source": [
    "l = []\n",
    "for i, g in df.groupby(['sys_id', 'sid', 'rid']):\n",
    "    l.append(len(g))\n",
    "all(i == 1 for i in l)"
   ]
  },
  {
   "cell_type": "code",
   "execution_count": 8,
   "id": "4b19c6a7",
   "metadata": {},
   "outputs": [
    {
     "data": {
      "text/plain": [
       "665.9271807914765"
      ]
     },
     "execution_count": 8,
     "metadata": {},
     "output_type": "execute_result"
    }
   ],
   "source": [
    "# pooled variance\n",
    "pooled_var = pooled_variance(df.groupby(['sys_id', 'sid', 'rid']), variable='raw_score')\n",
    "pooled_var"
   ]
  },
  {
   "cell_type": "code",
   "execution_count": 9,
   "id": "8bc0cf54",
   "metadata": {},
   "outputs": [
    {
     "data": {
      "text/plain": [
       "200.29512794895095"
      ]
     },
     "execution_count": 9,
     "metadata": {},
     "output_type": "execute_result"
    }
   ],
   "source": [
    "true_score_var = total_var - pooled_var\n",
    "true_score_var"
   ]
  },
  {
   "cell_type": "code",
   "execution_count": 10,
   "id": "1a3d4373",
   "metadata": {},
   "outputs": [
    {
     "name": "stdout",
     "output_type": "stream",
     "text": [
      "29.431654876007695\n",
      "25.805564919053342\n",
      "14.15256612593458\n"
     ]
    }
   ],
   "source": [
    "print(np.sqrt(total_var))\n",
    "print(np.sqrt(pooled_var))\n",
    "print(np.sqrt(true_score_var))"
   ]
  },
  {
   "cell_type": "code",
   "execution_count": 11,
   "id": "49e15b98",
   "metadata": {},
   "outputs": [
    {
     "data": {
      "text/plain": [
       "3.3247298005231603"
      ]
     },
     "execution_count": 11,
     "metadata": {},
     "output_type": "execute_result"
    }
   ],
   "source": [
    "gamma = pooled_var / true_score_var\n",
    "gamma"
   ]
  },
  {
   "cell_type": "code",
   "execution_count": 13,
   "id": "ce9bd068",
   "metadata": {},
   "outputs": [
    {
     "data": {
      "text/plain": [
       "0.23122831855970066"
      ]
     },
     "execution_count": 13,
     "metadata": {},
     "output_type": "execute_result"
    }
   ],
   "source": [
    "true_score_var / total_var"
   ]
  }
 ],
 "metadata": {
  "kernelspec": {
   "display_name": "Python 3 (ipykernel)",
   "language": "python",
   "name": "python3"
  },
  "language_info": {
   "codemirror_mode": {
    "name": "ipython",
    "version": 3
   },
   "file_extension": ".py",
   "mimetype": "text/x-python",
   "name": "python",
   "nbconvert_exporter": "python",
   "pygments_lexer": "ipython3",
   "version": "3.10.4"
  }
 },
 "nbformat": 4,
 "nbformat_minor": 5
}
